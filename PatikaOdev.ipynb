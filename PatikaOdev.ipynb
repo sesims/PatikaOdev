{
  "nbformat": 4,
  "nbformat_minor": 0,
  "metadata": {
    "colab": {
      "provenance": [],
      "authorship_tag": "ABX9TyMEeud0BLIsIQs0rNDPmUhG",
      "include_colab_link": true
    },
    "kernelspec": {
      "name": "python3",
      "display_name": "Python 3"
    },
    "language_info": {
      "name": "python"
    }
  },
  "cells": [
    {
      "cell_type": "markdown",
      "metadata": {
        "id": "view-in-github",
        "colab_type": "text"
      },
      "source": [
        "<a href=\"https://colab.research.google.com/github/sesims/PatikaOdev/blob/main/PatikaOdev.ipynb\" target=\"_parent\"><img src=\"https://colab.research.google.com/assets/colab-badge.svg\" alt=\"Open In Colab\"/></a>"
      ]
    },
    {
      "cell_type": "markdown",
      "source": [
        "1- Bir listeyi düzleştiren (flatten) fonksiyon yazın. Elemanları birden çok katmanlı listelerden ([[3],2] gibi) oluşabileceği gibi, non-scalar verilerden de oluşabilir. Örnek olarak:\n",
        "\n",
        "input: [[1,'a',['cat'],2],[[[3]],'dog'],4,5]\n",
        "\n",
        "output: [1,'a','cat',2,3,'dog',4,5]"
      ],
      "metadata": {
        "id": "tMfmohUVfYCC"
      }
    },
    {
      "cell_type": "code",
      "source": [],
      "metadata": {
        "id": "Tm4jkaOYftPx"
      },
      "execution_count": null,
      "outputs": []
    }
  ]
}