{
  "nbformat": 4,
  "nbformat_minor": 0,
  "metadata": {
    "colab": {
      "provenance": [],
      "authorship_tag": "ABX9TyNaetvqKItUb4OipYWfeK3A",
      "include_colab_link": true
    },
    "kernelspec": {
      "name": "python3",
      "display_name": "Python 3"
    },
    "language_info": {
      "name": "python"
    }
  },
  "cells": [
    {
      "cell_type": "markdown",
      "metadata": {
        "id": "view-in-github",
        "colab_type": "text"
      },
      "source": [
        "<a href=\"https://colab.research.google.com/github/sesims/PatikaOdev/blob/main/PatikaOdev.ipynb\" target=\"_parent\"><img src=\"https://colab.research.google.com/assets/colab-badge.svg\" alt=\"Open In Colab\"/></a>"
      ]
    },
    {
      "cell_type": "markdown",
      "source": [
        "1- Bir listeyi düzleştiren (flatten) fonksiyon yazın. Elemanları birden çok katmanlı listelerden ([[3],2] gibi) oluşabileceği gibi, non-scalar verilerden de oluşabilir. Örnek olarak:\n",
        "\n",
        "input: [[1,'a',['cat'],2],[[[3]],'dog'],4,5]\n",
        "\n",
        "output: [1,'a','cat',2,3,'dog',4,5]"
      ],
      "metadata": {
        "id": "tMfmohUVfYCC"
      }
    },
    {
      "cell_type": "code",
      "source": [
        "def flatten(nested_list):\n",
        "    result = []\n",
        "    for i in nested_list:\n",
        "        if isinstance(i, list):\n",
        "            result.extend(flatten(i))\n",
        "        else:\n",
        "            result.append(i)\n",
        "    return result\n",
        "\n",
        "matrix = [[1,'a',['cat'],2],[[[3]],'dog'],4,5]\n",
        "flatten(matrix)"
      ],
      "metadata": {
        "id": "Tm4jkaOYftPx",
        "outputId": "4ca58bff-c306-46c9-85dd-8314a99eccb7",
        "colab": {
          "base_uri": "https://localhost:8080/"
        }
      },
      "execution_count": 10,
      "outputs": [
        {
          "output_type": "execute_result",
          "data": {
            "text/plain": [
              "[1, 'a', 'cat', 2, 3, 'dog', 4, 5]"
            ]
          },
          "metadata": {},
          "execution_count": 10
        }
      ]
    },
    {
      "cell_type": "markdown",
      "source": [
        "2- Verilen listenin içindeki elemanları tersine döndüren bir fonksiyon yazın. Eğer listenin içindeki elemanlar da liste içeriyorsa onların elemanlarını da tersine döndürün. Örnek olarak:\n",
        "\n",
        "input: [[1, 2], [3, 4], [5, 6, 7]]\n",
        "\n",
        "output: [[[7, 6, 5], [4, 3], [2, 1]]"
      ],
      "metadata": {
        "id": "sNzO_Oep8ux5"
      }
    },
    {
      "cell_type": "code",
      "source": [
        "def res(matrix):\n",
        "  result=[]\n",
        "  for i in matrix:\n",
        "\n",
        "    if isinstance(i, list):\n",
        "      result.append(res(i))\n",
        "    else:\n",
        "       result.append(i)\n",
        "\n",
        "  result.reverse()\n",
        "  return result\n",
        "\n",
        "matrix = [[1, 2], [3, 4], [5, 6, 7]]\n",
        "res(matrix)"
      ],
      "metadata": {
        "id": "zo2hXWMR8xt5",
        "outputId": "c629f7dc-9cd1-4861-ca86-29c7a6ac5a64",
        "colab": {
          "base_uri": "https://localhost:8080/"
        }
      },
      "execution_count": 28,
      "outputs": [
        {
          "output_type": "execute_result",
          "data": {
            "text/plain": [
              "[[7, 6, 5], [4, 3], [2, 1]]"
            ]
          },
          "metadata": {},
          "execution_count": 28
        }
      ]
    }
  ]
}